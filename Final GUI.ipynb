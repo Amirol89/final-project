{
 "cells": [
  {
   "cell_type": "code",
   "execution_count": 2,
   "id": "16cc385f-a5e4-43a9-bdd8-6329dc743edb",
   "metadata": {},
   "outputs": [
    {
     "data": {
      "application/vnd.jupyter.widget-view+json": {
       "model_id": "1e8177bdac7b4951b1dc7ae1d7080dbf",
       "version_major": 2,
       "version_minor": 0
      },
      "text/plain": [
       "VBox(children=(HBox(children=(Label(value='Select Operation:', layout=Layout(width='120px')), Dropdown(layout=…"
      ]
     },
     "metadata": {},
     "output_type": "display_data"
    }
   ],
   "source": [
    "import ipywidgets as widgets\n",
    "from IPython.display import display, clear_output\n",
    "import math\n",
    "\n",
    "class Calculator:\n",
    "    def __init__(self):\n",
    "        self.create_widgets()\n",
    "    \n",
    "    def add(self, a, b):\n",
    "        return a + b\n",
    "\n",
    "    def subtract(self, a, b):\n",
    "        return a - b\n",
    "\n",
    "    def multiply(self, a, b):\n",
    "        return a * b\n",
    "\n",
    "    def divide(self, a, b):\n",
    "        if b == 0:\n",
    "            return \"Error: Division by zero\"\n",
    "        return a / b\n",
    "\n",
    "    def power(self, a):\n",
    "        return a ** 2\n",
    "\n",
    "    def square_root(self, a):\n",
    "        if a < 0:\n",
    "            return \"Error: Cannot take square root of a negative number\"\n",
    "        return math.sqrt(a)\n",
    "\n",
    "    def calculate(self, change=None):\n",
    "        operation = self.select_operation.value\n",
    "        num1 = self.num1.value\n",
    "          \n",
    "        if operation in [\"Second Power\", \"Square Root\"]:\n",
    "            self.num2_box.layout.display = 'none'\n",
    "        else:\n",
    "            self.num2_box.layout.display = 'flex'\n",
    "        \n",
    "        try:\n",
    "            if operation in [\"Addition\", \"Subtraction\", \"Multiplication\", \"Division\"]:\n",
    "                num2 = self.num2.value  \n",
    "                if operation == \"Addition\":\n",
    "                    result = self.add(num1, num2)\n",
    "                elif operation == \"Subtraction\":\n",
    "                    result = self.subtract(num1, num2)\n",
    "                elif operation == \"Multiplication\":\n",
    "                    result = self.multiply(num1, num2)\n",
    "                elif operation == \"Division\":\n",
    "                    result = self.divide(num1, num2)\n",
    "            \n",
    "            elif operation == \"Second Power\":\n",
    "                result = self.power(num1)\n",
    "            elif operation == \"Square Root\":\n",
    "                result = self.square_root(num1)\n",
    "\n",
    "        except Exception as e:\n",
    "            result = f\"Error: {e}\"\n",
    "\n",
    "        self.result.value = f\"Result: {result}\"\n",
    "\n",
    "    def create_widgets(self):\n",
    "        self.select_operation = widgets.Dropdown(\n",
    "            options=[\"Addition\", \"Subtraction\", \"Multiplication\", \"Division\", \"Second Power\", \"Square Root\"],\n",
    "            value=\"Addition\",\n",
    "            layout=widgets.Layout(width=\"200px\")  \n",
    "        )\n",
    "        self.select_operation.observe(self.calculate, names='value')\n",
    "\n",
    "        self.num1 = widgets.FloatText(layout=widgets.Layout(width=\"200px\"))\n",
    "        self.num2 = widgets.FloatText(layout=widgets.Layout(width=\"200px\"))\n",
    "\n",
    "        self.num1_box = widgets.HBox([widgets.Label(\"Enter 1st Number:\", layout=widgets.Layout(width=\"120px\")), self.num1])\n",
    "        self.num2_box = widgets.HBox([widgets.Label(\"Enter 2nd Number:\", layout=widgets.Layout(width=\"120px\")), self.num2])\n",
    "\n",
    "        self.calc_button = widgets.Button(description=\"Calculate\", layout=widgets.Layout(margin=\"10px 0 0 0\"))\n",
    "        self.calc_button.on_click(self.calculate)\n",
    "\n",
    "        self.result = widgets.Label(value=\"Result: \", layout=widgets.Layout(margin=\"10px 0 0 0\"))\n",
    "\n",
    "        display(\n",
    "            widgets.VBox([\n",
    "                widgets.HBox([widgets.Label(\"Select Operation:\", layout=widgets.Layout(width=\"120px\")), self.select_operation]),\n",
    "                self.num1_box,\n",
    "                self.num2_box,\n",
    "                self.calc_button,\n",
    "                self.result\n",
    "            ])\n",
    "        )\n",
    "        self.calculate()\n",
    "\n",
    "Calculator();"
   ]
  },
  {
   "cell_type": "code",
   "execution_count": null,
   "id": "e33316c5-7ee2-4ef3-a4f6-6f5264b1ae6d",
   "metadata": {},
   "outputs": [],
   "source": []
  }
 ],
 "metadata": {
  "kernelspec": {
   "display_name": "Python 3 (ipykernel)",
   "language": "python",
   "name": "python3"
  },
  "language_info": {
   "codemirror_mode": {
    "name": "ipython",
    "version": 3
   },
   "file_extension": ".py",
   "mimetype": "text/x-python",
   "name": "python",
   "nbconvert_exporter": "python",
   "pygments_lexer": "ipython3",
   "version": "3.12.7"
  }
 },
 "nbformat": 4,
 "nbformat_minor": 5
}
